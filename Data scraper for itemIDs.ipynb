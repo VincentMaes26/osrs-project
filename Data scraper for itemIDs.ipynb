{
 "cells": [
  {
   "cell_type": "code",
   "execution_count": 2,
   "metadata": {},
   "outputs": [],
   "source": [
    "import requests as req\n",
    "import pandas as pd"
   ]
  },
  {
   "cell_type": "code",
   "execution_count": 10,
   "metadata": {},
   "outputs": [],
   "source": [
    "baseURL = \"https://rsbuddy.com/exchange/summary.json\";\n",
    "\n",
    "call = req.request(\"GET\",url=baseURL)\n",
    "temp = pd.read_json(call.text)\n",
    "\n",
    "df = temp.transpose()\n",
    "#df.rename( columns={'Unnamed: 0':'itemID'}, inplace=True )\n",
    "name_id_df = df[['id','name']]"
   ]
  },
  {
   "cell_type": "code",
   "execution_count": 12,
   "metadata": {},
   "outputs": [],
   "source": [
    "import os\n",
    "\n",
    "try:\n",
    "    os.remove(\"./data/AllItemIDs.csv\")\n",
    "except OSError:\n",
    "    name_id_df.to_csv(\"./data/AllItemIDs.csv\")"
   ]
  },
  {
   "cell_type": "code",
   "execution_count": null,
   "metadata": {},
   "outputs": [],
   "source": []
  }
 ],
 "metadata": {
  "kernelspec": {
   "display_name": "Python 3",
   "language": "python",
   "name": "python3"
  },
  "language_info": {
   "codemirror_mode": {
    "name": "ipython",
    "version": 3
   },
   "file_extension": ".py",
   "mimetype": "text/x-python",
   "name": "python",
   "nbconvert_exporter": "python",
   "pygments_lexer": "ipython3",
   "version": "3.7.9"
  }
 },
 "nbformat": 4,
 "nbformat_minor": 4
}
