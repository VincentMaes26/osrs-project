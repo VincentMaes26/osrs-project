{
 "cells": [
  {
   "cell_type": "markdown",
   "metadata": {},
   "source": [
    "# OSRS FLIPPING"
   ]
  },
  {
   "cell_type": "code",
   "execution_count": 2,
   "metadata": {},
   "outputs": [],
   "source": [
    "import pandas as pd\n",
    "import requests as req\n",
    "import json"
   ]
  },
  {
   "cell_type": "markdown",
   "metadata": {},
   "source": [
    "### Initialises dataframe"
   ]
  },
  {
   "cell_type": "code",
   "execution_count": 4,
   "metadata": {},
   "outputs": [
    {
     "data": {
      "text/html": [
       "<div>\n",
       "<style scoped>\n",
       "    .dataframe tbody tr th:only-of-type {\n",
       "        vertical-align: middle;\n",
       "    }\n",
       "\n",
       "    .dataframe tbody tr th {\n",
       "        vertical-align: top;\n",
       "    }\n",
       "\n",
       "    .dataframe thead th {\n",
       "        text-align: right;\n",
       "    }\n",
       "</style>\n",
       "<table border=\"1\" class=\"dataframe\">\n",
       "  <thead>\n",
       "    <tr style=\"text-align: right;\">\n",
       "      <th></th>\n",
       "      <th>id</th>\n",
       "      <th>name</th>\n",
       "      <th>members</th>\n",
       "      <th>buy_average</th>\n",
       "      <th>sell_average</th>\n",
       "      <th>buy_quantity</th>\n",
       "      <th>sell_quantity</th>\n",
       "      <th>margin_price</th>\n",
       "      <th>margin_quantity</th>\n",
       "    </tr>\n",
       "  </thead>\n",
       "  <tbody>\n",
       "    <tr>\n",
       "      <th>97</th>\n",
       "      <td>97</td>\n",
       "      <td>Harralander potion (unf)</td>\n",
       "      <td>True</td>\n",
       "      <td>0</td>\n",
       "      <td>847</td>\n",
       "      <td>0</td>\n",
       "      <td>2</td>\n",
       "      <td>847</td>\n",
       "      <td>2</td>\n",
       "    </tr>\n",
       "    <tr>\n",
       "      <th>1654</th>\n",
       "      <td>1654</td>\n",
       "      <td>Gold necklace</td>\n",
       "      <td>False</td>\n",
       "      <td>109</td>\n",
       "      <td>0</td>\n",
       "      <td>1</td>\n",
       "      <td>0</td>\n",
       "      <td>109</td>\n",
       "      <td>1</td>\n",
       "    </tr>\n",
       "    <tr>\n",
       "      <th>58</th>\n",
       "      <td>58</td>\n",
       "      <td>Willow longbow (u)</td>\n",
       "      <td>True</td>\n",
       "      <td>0</td>\n",
       "      <td>51</td>\n",
       "      <td>0</td>\n",
       "      <td>1</td>\n",
       "      <td>51</td>\n",
       "      <td>1</td>\n",
       "    </tr>\n",
       "    <tr>\n",
       "      <th>2922</th>\n",
       "      <td>2922</td>\n",
       "      <td>Yellow gloves</td>\n",
       "      <td>False</td>\n",
       "      <td>850</td>\n",
       "      <td>0</td>\n",
       "      <td>1</td>\n",
       "      <td>0</td>\n",
       "      <td>850</td>\n",
       "      <td>1</td>\n",
       "    </tr>\n",
       "    <tr>\n",
       "      <th>1929</th>\n",
       "      <td>1929</td>\n",
       "      <td>Bucket of water</td>\n",
       "      <td>False</td>\n",
       "      <td>37</td>\n",
       "      <td>33</td>\n",
       "      <td>10</td>\n",
       "      <td>1704</td>\n",
       "      <td>4</td>\n",
       "      <td>1694</td>\n",
       "    </tr>\n",
       "  </tbody>\n",
       "</table>\n",
       "</div>"
      ],
      "text/plain": [
       "        id                      name members buy_average sell_average  \\\n",
       "97      97  Harralander potion (unf)    True           0          847   \n",
       "1654  1654             Gold necklace   False         109            0   \n",
       "58      58        Willow longbow (u)    True           0           51   \n",
       "2922  2922             Yellow gloves   False         850            0   \n",
       "1929  1929           Bucket of water   False          37           33   \n",
       "\n",
       "     buy_quantity sell_quantity  margin_price  margin_quantity  \n",
       "97              0             2           847                2  \n",
       "1654            1             0           109                1  \n",
       "58              0             1            51                1  \n",
       "2922            1             0           850                1  \n",
       "1929           10          1704             4             1694  "
      ]
     },
     "execution_count": 4,
     "metadata": {},
     "output_type": "execute_result"
    }
   ],
   "source": [
    "baseURL = \"https://rsbuddy.com/exchange/summary.json\";\n",
    "\n",
    "call = req.request(\"GET\",url=baseURL)\n",
    "temp = pd.read_json(call.text)\n",
    "\n",
    "df = temp.transpose()\n",
    "\n",
    "def get_margin_price(row):\n",
    "    if(row[\"sell_average\"] > row[\"buy_average\"]):\n",
    "        return row[\"sell_average\"]-row[\"buy_average\"]\n",
    "    else:\n",
    "        return row[\"buy_average\"]-row[\"sell_average\"]    \n",
    "      \n",
    "def get_margin_quantity(row):\n",
    "    if(row[\"sell_quantity\"]> row[\"buy_quantity\"]):\n",
    "        return row[\"sell_quantity\"]-row[\"buy_quantity\"]\n",
    "    else:\n",
    "        return row[\"buy_quantity\"]-row[\"sell_quantity\"]\n",
    "    \n",
    "\n",
    "df[\"margin_price\"] = df.apply(lambda row: get_margin_price(row), axis=1 )\n",
    "df[\"margin_quantity\"] = df.apply(lambda row: get_margin_quantity(row), axis=1)\n",
    "\n",
    "df = df[[\"id\",\"name\",\"members\", \"buy_average\", \"sell_average\", \"buy_quantity\", \"sell_quantity\", \"margin_price\", \"margin_quantity\"]]\n",
    "df.sample(5)"
   ]
  },
  {
   "cell_type": "markdown",
   "metadata": {},
   "source": [
    "### Free to play items with good margins "
   ]
  },
  {
   "cell_type": "code",
   "execution_count": 18,
   "metadata": {},
   "outputs": [
    {
     "data": {
      "text/html": [
       "<div>\n",
       "<style scoped>\n",
       "    .dataframe tbody tr th:only-of-type {\n",
       "        vertical-align: middle;\n",
       "    }\n",
       "\n",
       "    .dataframe tbody tr th {\n",
       "        vertical-align: top;\n",
       "    }\n",
       "\n",
       "    .dataframe thead th {\n",
       "        text-align: right;\n",
       "    }\n",
       "</style>\n",
       "<table border=\"1\" class=\"dataframe\">\n",
       "  <thead>\n",
       "    <tr style=\"text-align: right;\">\n",
       "      <th></th>\n",
       "      <th>id</th>\n",
       "      <th>name</th>\n",
       "      <th>members</th>\n",
       "      <th>buy_average</th>\n",
       "      <th>sell_average</th>\n",
       "      <th>buy_quantity</th>\n",
       "      <th>sell_quantity</th>\n",
       "      <th>margin_price</th>\n",
       "      <th>margin_quantity</th>\n",
       "    </tr>\n",
       "  </thead>\n",
       "  <tbody>\n",
       "    <tr>\n",
       "      <th>851</th>\n",
       "      <td>851</td>\n",
       "      <td>Maple longbow</td>\n",
       "      <td>False</td>\n",
       "      <td>218</td>\n",
       "      <td>205</td>\n",
       "      <td>2700</td>\n",
       "      <td>1935</td>\n",
       "      <td>13</td>\n",
       "      <td>765</td>\n",
       "    </tr>\n",
       "    <tr>\n",
       "      <th>1517</th>\n",
       "      <td>1517</td>\n",
       "      <td>Maple logs</td>\n",
       "      <td>False</td>\n",
       "      <td>8</td>\n",
       "      <td>7</td>\n",
       "      <td>15000</td>\n",
       "      <td>15088</td>\n",
       "      <td>1</td>\n",
       "      <td>88</td>\n",
       "    </tr>\n",
       "  </tbody>\n",
       "</table>\n",
       "</div>"
      ],
      "text/plain": [
       "        id           name members buy_average sell_average buy_quantity  \\\n",
       "851    851  Maple longbow   False         218          205         2700   \n",
       "1517  1517     Maple logs   False           8            7        15000   \n",
       "\n",
       "     sell_quantity  margin_price  margin_quantity  \n",
       "851           1935            13              765  \n",
       "1517         15088             1               88  "
      ]
     },
     "execution_count": 18,
     "metadata": {},
     "output_type": "execute_result"
    }
   ],
   "source": [
    "df_filtered = df[(df[\"buy_quantity\"] > 1000) & (df[\"sell_quantity\"] > 1000)]\n",
    "df_filtered = df_filtered[df_filtered[\"margin_quantity\"] < 1000]\n",
    "df_filtered[df_filtered[\"members\"]==False]  \\\n",
    "    .sort_values(by=[\"margin_price\",\"margin_quantity\"], ascending= [False, False])"
   ]
  },
  {
   "cell_type": "markdown",
   "metadata": {},
   "source": [
    "## Get daily graph for item"
   ]
  },
  {
   "cell_type": "code",
   "execution_count": 29,
   "metadata": {},
   "outputs": [],
   "source": [
    "import datetime\n",
    "import plotly.graph_objects as go"
   ]
  },
  {
   "cell_type": "code",
   "execution_count": 24,
   "metadata": {},
   "outputs": [
    {
     "name": "stdout",
     "output_type": "stream",
     "text": [
      "1623\n"
     ]
    }
   ],
   "source": [
    "base_URI = \"http://services.runescape.com/m=itemdb_oldschool/api/graph/\"\n",
    "item = \"Uncut sapphire\"\n",
    "itemIdDF = pd.read_csv(\"./data/AllItemIDs.csv\")\n",
    "itemID = itemIdDF.loc[itemIdDF[\"name\"]==item]['id'].item()\n",
    "print(itemID)"
   ]
  },
  {
   "cell_type": "code",
   "execution_count": 25,
   "metadata": {},
   "outputs": [],
   "source": [
    "r =req.get(base_URI+str(itemID)+\".json\")\n",
    "r\n",
    "if r.status_code == 200:\n",
    "    json_data = json.loads(r.text)\n",
    "    dailyPriceJSON = json_data['daily']\n",
    "else:\n",
    "    print(\"There has been an error making the request. Error code: \"+ str(r.status_code))"
   ]
  },
  {
   "cell_type": "code",
   "execution_count": 35,
   "metadata": {},
   "outputs": [
    {
     "data": {
      "application/vnd.plotly.v1+json": {
       "config": {
        "plotlyServerURL": "https://plot.ly"
       },
       "data": [
        {
         "type": "scatter",
         "x": [
          "28/04/2020",
          "29/04/2020",
          "30/04/2020",
          "01/05/2020",
          "02/05/2020",
          "03/05/2020",
          "04/05/2020",
          "05/05/2020",
          "06/05/2020",
          "07/05/2020",
          "08/05/2020",
          "09/05/2020",
          "10/05/2020",
          "11/05/2020",
          "12/05/2020",
          "13/05/2020",
          "14/05/2020",
          "15/05/2020",
          "16/05/2020",
          "17/05/2020",
          "18/05/2020",
          "19/05/2020",
          "20/05/2020",
          "21/05/2020",
          "22/05/2020",
          "23/05/2020",
          "24/05/2020",
          "25/05/2020",
          "26/05/2020",
          "27/05/2020",
          "28/05/2020",
          "29/05/2020",
          "30/05/2020",
          "31/05/2020",
          "01/06/2020",
          "02/06/2020",
          "03/06/2020",
          "04/06/2020",
          "05/06/2020",
          "06/06/2020",
          "07/06/2020",
          "08/06/2020",
          "09/06/2020",
          "10/06/2020",
          "11/06/2020",
          "12/06/2020",
          "13/06/2020",
          "14/06/2020",
          "15/06/2020",
          "16/06/2020",
          "17/06/2020",
          "18/06/2020",
          "19/06/2020",
          "20/06/2020",
          "21/06/2020",
          "22/06/2020",
          "23/06/2020",
          "24/06/2020",
          "25/06/2020",
          "26/06/2020",
          "27/06/2020",
          "28/06/2020",
          "29/06/2020",
          "30/06/2020",
          "01/07/2020",
          "02/07/2020",
          "03/07/2020",
          "04/07/2020",
          "05/07/2020",
          "06/07/2020",
          "07/07/2020",
          "08/07/2020",
          "09/07/2020",
          "10/07/2020",
          "11/07/2020",
          "12/07/2020",
          "13/07/2020",
          "14/07/2020",
          "15/07/2020",
          "16/07/2020",
          "17/07/2020",
          "18/07/2020",
          "19/07/2020",
          "20/07/2020",
          "21/07/2020",
          "22/07/2020",
          "23/07/2020",
          "24/07/2020",
          "25/07/2020",
          "26/07/2020",
          "27/07/2020",
          "28/07/2020",
          "29/07/2020",
          "30/07/2020",
          "31/07/2020",
          "01/08/2020",
          "02/08/2020",
          "03/08/2020",
          "04/08/2020",
          "05/08/2020",
          "06/08/2020",
          "07/08/2020",
          "08/08/2020",
          "09/08/2020",
          "10/08/2020",
          "11/08/2020",
          "12/08/2020",
          "13/08/2020",
          "14/08/2020",
          "15/08/2020",
          "16/08/2020",
          "17/08/2020",
          "18/08/2020",
          "19/08/2020",
          "20/08/2020",
          "21/08/2020",
          "22/08/2020",
          "23/08/2020",
          "24/08/2020",
          "25/08/2020",
          "26/08/2020",
          "27/08/2020",
          "28/08/2020",
          "29/08/2020",
          "30/08/2020",
          "31/08/2020",
          "01/09/2020",
          "02/09/2020",
          "03/09/2020",
          "04/09/2020",
          "05/09/2020",
          "06/09/2020",
          "07/09/2020",
          "08/09/2020",
          "09/09/2020",
          "10/09/2020",
          "11/09/2020",
          "12/09/2020",
          "13/09/2020",
          "14/09/2020",
          "15/09/2020",
          "16/09/2020",
          "17/09/2020",
          "18/09/2020",
          "19/09/2020",
          "20/09/2020",
          "21/09/2020",
          "22/09/2020",
          "23/09/2020",
          "24/09/2020",
          "25/09/2020",
          "26/09/2020",
          "27/09/2020",
          "28/09/2020",
          "29/09/2020",
          "30/09/2020",
          "01/10/2020",
          "02/10/2020",
          "03/10/2020",
          "04/10/2020",
          "05/10/2020",
          "06/10/2020",
          "07/10/2020",
          "08/10/2020",
          "09/10/2020",
          "10/10/2020",
          "11/10/2020",
          "12/10/2020",
          "13/10/2020",
          "14/10/2020",
          "15/10/2020",
          "16/10/2020",
          "17/10/2020",
          "18/10/2020",
          "19/10/2020",
          "20/10/2020",
          "21/10/2020",
          "22/10/2020",
          "23/10/2020",
          "24/10/2020"
         ],
         "y": [
          503,
          516,
          508,
          500,
          497,
          489,
          493,
          497,
          491,
          488,
          483,
          478,
          472,
          473,
          488,
          486,
          486,
          493,
          499,
          502,
          495,
          483,
          491,
          489,
          486,
          482,
          473,
          470,
          466,
          470,
          476,
          475,
          471,
          457,
          442,
          429,
          436,
          443,
          445,
          449,
          454,
          455,
          453,
          449,
          445,
          449,
          451,
          455,
          459,
          463,
          464,
          467,
          463,
          456,
          449,
          441,
          436,
          439,
          444,
          452,
          454,
          444,
          433,
          431,
          424,
          413,
          397,
          407,
          411,
          407,
          399,
          402,
          404,
          423,
          434,
          431,
          433,
          438,
          443,
          442,
          441,
          448,
          442,
          432,
          430,
          429,
          424,
          422,
          418,
          422,
          415,
          414,
          410,
          410,
          410,
          408,
          400,
          400,
          402,
          403,
          407,
          410,
          406,
          405,
          405,
          409,
          408,
          408,
          404,
          401,
          399,
          400,
          399,
          400,
          403,
          406,
          410,
          406,
          401,
          393,
          399,
          398,
          394,
          397,
          397,
          399,
          398,
          398,
          403,
          406,
          400,
          402,
          398,
          396,
          398,
          400,
          400,
          399,
          400,
          400,
          400,
          399,
          398,
          399,
          402,
          399,
          399,
          387,
          384,
          386,
          383,
          386,
          388,
          390,
          395,
          392,
          390,
          389,
          390,
          386,
          384,
          388,
          396,
          410,
          414,
          415,
          406,
          402,
          397,
          392,
          393,
          394,
          396,
          394,
          397,
          403,
          406,
          407,
          412,
          412
         ]
        }
       ],
       "layout": {
        "autosize": true,
        "template": {
         "data": {
          "bar": [
           {
            "error_x": {
             "color": "#2a3f5f"
            },
            "error_y": {
             "color": "#2a3f5f"
            },
            "marker": {
             "line": {
              "color": "#E5ECF6",
              "width": 0.5
             }
            },
            "type": "bar"
           }
          ],
          "barpolar": [
           {
            "marker": {
             "line": {
              "color": "#E5ECF6",
              "width": 0.5
             }
            },
            "type": "barpolar"
           }
          ],
          "carpet": [
           {
            "aaxis": {
             "endlinecolor": "#2a3f5f",
             "gridcolor": "white",
             "linecolor": "white",
             "minorgridcolor": "white",
             "startlinecolor": "#2a3f5f"
            },
            "baxis": {
             "endlinecolor": "#2a3f5f",
             "gridcolor": "white",
             "linecolor": "white",
             "minorgridcolor": "white",
             "startlinecolor": "#2a3f5f"
            },
            "type": "carpet"
           }
          ],
          "choropleth": [
           {
            "colorbar": {
             "outlinewidth": 0,
             "ticks": ""
            },
            "type": "choropleth"
           }
          ],
          "contour": [
           {
            "colorbar": {
             "outlinewidth": 0,
             "ticks": ""
            },
            "colorscale": [
             [
              0,
              "#0d0887"
             ],
             [
              0.1111111111111111,
              "#46039f"
             ],
             [
              0.2222222222222222,
              "#7201a8"
             ],
             [
              0.3333333333333333,
              "#9c179e"
             ],
             [
              0.4444444444444444,
              "#bd3786"
             ],
             [
              0.5555555555555556,
              "#d8576b"
             ],
             [
              0.6666666666666666,
              "#ed7953"
             ],
             [
              0.7777777777777778,
              "#fb9f3a"
             ],
             [
              0.8888888888888888,
              "#fdca26"
             ],
             [
              1,
              "#f0f921"
             ]
            ],
            "type": "contour"
           }
          ],
          "contourcarpet": [
           {
            "colorbar": {
             "outlinewidth": 0,
             "ticks": ""
            },
            "type": "contourcarpet"
           }
          ],
          "heatmap": [
           {
            "colorbar": {
             "outlinewidth": 0,
             "ticks": ""
            },
            "colorscale": [
             [
              0,
              "#0d0887"
             ],
             [
              0.1111111111111111,
              "#46039f"
             ],
             [
              0.2222222222222222,
              "#7201a8"
             ],
             [
              0.3333333333333333,
              "#9c179e"
             ],
             [
              0.4444444444444444,
              "#bd3786"
             ],
             [
              0.5555555555555556,
              "#d8576b"
             ],
             [
              0.6666666666666666,
              "#ed7953"
             ],
             [
              0.7777777777777778,
              "#fb9f3a"
             ],
             [
              0.8888888888888888,
              "#fdca26"
             ],
             [
              1,
              "#f0f921"
             ]
            ],
            "type": "heatmap"
           }
          ],
          "heatmapgl": [
           {
            "colorbar": {
             "outlinewidth": 0,
             "ticks": ""
            },
            "colorscale": [
             [
              0,
              "#0d0887"
             ],
             [
              0.1111111111111111,
              "#46039f"
             ],
             [
              0.2222222222222222,
              "#7201a8"
             ],
             [
              0.3333333333333333,
              "#9c179e"
             ],
             [
              0.4444444444444444,
              "#bd3786"
             ],
             [
              0.5555555555555556,
              "#d8576b"
             ],
             [
              0.6666666666666666,
              "#ed7953"
             ],
             [
              0.7777777777777778,
              "#fb9f3a"
             ],
             [
              0.8888888888888888,
              "#fdca26"
             ],
             [
              1,
              "#f0f921"
             ]
            ],
            "type": "heatmapgl"
           }
          ],
          "histogram": [
           {
            "marker": {
             "colorbar": {
              "outlinewidth": 0,
              "ticks": ""
             }
            },
            "type": "histogram"
           }
          ],
          "histogram2d": [
           {
            "colorbar": {
             "outlinewidth": 0,
             "ticks": ""
            },
            "colorscale": [
             [
              0,
              "#0d0887"
             ],
             [
              0.1111111111111111,
              "#46039f"
             ],
             [
              0.2222222222222222,
              "#7201a8"
             ],
             [
              0.3333333333333333,
              "#9c179e"
             ],
             [
              0.4444444444444444,
              "#bd3786"
             ],
             [
              0.5555555555555556,
              "#d8576b"
             ],
             [
              0.6666666666666666,
              "#ed7953"
             ],
             [
              0.7777777777777778,
              "#fb9f3a"
             ],
             [
              0.8888888888888888,
              "#fdca26"
             ],
             [
              1,
              "#f0f921"
             ]
            ],
            "type": "histogram2d"
           }
          ],
          "histogram2dcontour": [
           {
            "colorbar": {
             "outlinewidth": 0,
             "ticks": ""
            },
            "colorscale": [
             [
              0,
              "#0d0887"
             ],
             [
              0.1111111111111111,
              "#46039f"
             ],
             [
              0.2222222222222222,
              "#7201a8"
             ],
             [
              0.3333333333333333,
              "#9c179e"
             ],
             [
              0.4444444444444444,
              "#bd3786"
             ],
             [
              0.5555555555555556,
              "#d8576b"
             ],
             [
              0.6666666666666666,
              "#ed7953"
             ],
             [
              0.7777777777777778,
              "#fb9f3a"
             ],
             [
              0.8888888888888888,
              "#fdca26"
             ],
             [
              1,
              "#f0f921"
             ]
            ],
            "type": "histogram2dcontour"
           }
          ],
          "mesh3d": [
           {
            "colorbar": {
             "outlinewidth": 0,
             "ticks": ""
            },
            "type": "mesh3d"
           }
          ],
          "parcoords": [
           {
            "line": {
             "colorbar": {
              "outlinewidth": 0,
              "ticks": ""
             }
            },
            "type": "parcoords"
           }
          ],
          "pie": [
           {
            "automargin": true,
            "type": "pie"
           }
          ],
          "scatter": [
           {
            "marker": {
             "colorbar": {
              "outlinewidth": 0,
              "ticks": ""
             }
            },
            "type": "scatter"
           }
          ],
          "scatter3d": [
           {
            "line": {
             "colorbar": {
              "outlinewidth": 0,
              "ticks": ""
             }
            },
            "marker": {
             "colorbar": {
              "outlinewidth": 0,
              "ticks": ""
             }
            },
            "type": "scatter3d"
           }
          ],
          "scattercarpet": [
           {
            "marker": {
             "colorbar": {
              "outlinewidth": 0,
              "ticks": ""
             }
            },
            "type": "scattercarpet"
           }
          ],
          "scattergeo": [
           {
            "marker": {
             "colorbar": {
              "outlinewidth": 0,
              "ticks": ""
             }
            },
            "type": "scattergeo"
           }
          ],
          "scattergl": [
           {
            "marker": {
             "colorbar": {
              "outlinewidth": 0,
              "ticks": ""
             }
            },
            "type": "scattergl"
           }
          ],
          "scattermapbox": [
           {
            "marker": {
             "colorbar": {
              "outlinewidth": 0,
              "ticks": ""
             }
            },
            "type": "scattermapbox"
           }
          ],
          "scatterpolar": [
           {
            "marker": {
             "colorbar": {
              "outlinewidth": 0,
              "ticks": ""
             }
            },
            "type": "scatterpolar"
           }
          ],
          "scatterpolargl": [
           {
            "marker": {
             "colorbar": {
              "outlinewidth": 0,
              "ticks": ""
             }
            },
            "type": "scatterpolargl"
           }
          ],
          "scatterternary": [
           {
            "marker": {
             "colorbar": {
              "outlinewidth": 0,
              "ticks": ""
             }
            },
            "type": "scatterternary"
           }
          ],
          "surface": [
           {
            "colorbar": {
             "outlinewidth": 0,
             "ticks": ""
            },
            "colorscale": [
             [
              0,
              "#0d0887"
             ],
             [
              0.1111111111111111,
              "#46039f"
             ],
             [
              0.2222222222222222,
              "#7201a8"
             ],
             [
              0.3333333333333333,
              "#9c179e"
             ],
             [
              0.4444444444444444,
              "#bd3786"
             ],
             [
              0.5555555555555556,
              "#d8576b"
             ],
             [
              0.6666666666666666,
              "#ed7953"
             ],
             [
              0.7777777777777778,
              "#fb9f3a"
             ],
             [
              0.8888888888888888,
              "#fdca26"
             ],
             [
              1,
              "#f0f921"
             ]
            ],
            "type": "surface"
           }
          ],
          "table": [
           {
            "cells": {
             "fill": {
              "color": "#EBF0F8"
             },
             "line": {
              "color": "white"
             }
            },
            "header": {
             "fill": {
              "color": "#C8D4E3"
             },
             "line": {
              "color": "white"
             }
            },
            "type": "table"
           }
          ]
         },
         "layout": {
          "annotationdefaults": {
           "arrowcolor": "#2a3f5f",
           "arrowhead": 0,
           "arrowwidth": 1
          },
          "coloraxis": {
           "colorbar": {
            "outlinewidth": 0,
            "ticks": ""
           }
          },
          "colorscale": {
           "diverging": [
            [
             0,
             "#8e0152"
            ],
            [
             0.1,
             "#c51b7d"
            ],
            [
             0.2,
             "#de77ae"
            ],
            [
             0.3,
             "#f1b6da"
            ],
            [
             0.4,
             "#fde0ef"
            ],
            [
             0.5,
             "#f7f7f7"
            ],
            [
             0.6,
             "#e6f5d0"
            ],
            [
             0.7,
             "#b8e186"
            ],
            [
             0.8,
             "#7fbc41"
            ],
            [
             0.9,
             "#4d9221"
            ],
            [
             1,
             "#276419"
            ]
           ],
           "sequential": [
            [
             0,
             "#0d0887"
            ],
            [
             0.1111111111111111,
             "#46039f"
            ],
            [
             0.2222222222222222,
             "#7201a8"
            ],
            [
             0.3333333333333333,
             "#9c179e"
            ],
            [
             0.4444444444444444,
             "#bd3786"
            ],
            [
             0.5555555555555556,
             "#d8576b"
            ],
            [
             0.6666666666666666,
             "#ed7953"
            ],
            [
             0.7777777777777778,
             "#fb9f3a"
            ],
            [
             0.8888888888888888,
             "#fdca26"
            ],
            [
             1,
             "#f0f921"
            ]
           ],
           "sequentialminus": [
            [
             0,
             "#0d0887"
            ],
            [
             0.1111111111111111,
             "#46039f"
            ],
            [
             0.2222222222222222,
             "#7201a8"
            ],
            [
             0.3333333333333333,
             "#9c179e"
            ],
            [
             0.4444444444444444,
             "#bd3786"
            ],
            [
             0.5555555555555556,
             "#d8576b"
            ],
            [
             0.6666666666666666,
             "#ed7953"
            ],
            [
             0.7777777777777778,
             "#fb9f3a"
            ],
            [
             0.8888888888888888,
             "#fdca26"
            ],
            [
             1,
             "#f0f921"
            ]
           ]
          },
          "colorway": [
           "#636efa",
           "#EF553B",
           "#00cc96",
           "#ab63fa",
           "#FFA15A",
           "#19d3f3",
           "#FF6692",
           "#B6E880",
           "#FF97FF",
           "#FECB52"
          ],
          "font": {
           "color": "#2a3f5f"
          },
          "geo": {
           "bgcolor": "white",
           "lakecolor": "white",
           "landcolor": "#E5ECF6",
           "showlakes": true,
           "showland": true,
           "subunitcolor": "white"
          },
          "hoverlabel": {
           "align": "left"
          },
          "hovermode": "closest",
          "mapbox": {
           "style": "light"
          },
          "paper_bgcolor": "white",
          "plot_bgcolor": "#E5ECF6",
          "polar": {
           "angularaxis": {
            "gridcolor": "white",
            "linecolor": "white",
            "ticks": ""
           },
           "bgcolor": "#E5ECF6",
           "radialaxis": {
            "gridcolor": "white",
            "linecolor": "white",
            "ticks": ""
           }
          },
          "scene": {
           "xaxis": {
            "backgroundcolor": "#E5ECF6",
            "gridcolor": "white",
            "gridwidth": 2,
            "linecolor": "white",
            "showbackground": true,
            "ticks": "",
            "zerolinecolor": "white"
           },
           "yaxis": {
            "backgroundcolor": "#E5ECF6",
            "gridcolor": "white",
            "gridwidth": 2,
            "linecolor": "white",
            "showbackground": true,
            "ticks": "",
            "zerolinecolor": "white"
           },
           "zaxis": {
            "backgroundcolor": "#E5ECF6",
            "gridcolor": "white",
            "gridwidth": 2,
            "linecolor": "white",
            "showbackground": true,
            "ticks": "",
            "zerolinecolor": "white"
           }
          },
          "shapedefaults": {
           "line": {
            "color": "#2a3f5f"
           }
          },
          "ternary": {
           "aaxis": {
            "gridcolor": "white",
            "linecolor": "white",
            "ticks": ""
           },
           "baxis": {
            "gridcolor": "white",
            "linecolor": "white",
            "ticks": ""
           },
           "bgcolor": "#E5ECF6",
           "caxis": {
            "gridcolor": "white",
            "linecolor": "white",
            "ticks": ""
           }
          },
          "title": {
           "x": 0.05
          },
          "xaxis": {
           "automargin": true,
           "gridcolor": "white",
           "linecolor": "white",
           "ticks": "",
           "title": {
            "standoff": 15
           },
           "zerolinecolor": "white",
           "zerolinewidth": 2
          },
          "yaxis": {
           "automargin": true,
           "gridcolor": "white",
           "linecolor": "white",
           "ticks": "",
           "title": {
            "standoff": 15
           },
           "zerolinecolor": "white",
           "zerolinewidth": 2
          }
         }
        },
        "title": {
         "text": "Uncut sapphire daily price"
        },
        "xaxis": {
         "autorange": true,
         "range": [
          0,
          179
         ],
         "type": "category"
        },
        "yaxis": {
         "autorange": true,
         "range": [
          375.6111111111111,
          523.3888888888889
         ],
         "type": "linear"
        }
       }
      },
      "image/png": "[encoded data removed]",
      "text/html": [
       "<div>\n",
       "        \n",
       "        \n",
       "            <div id=\"839e6f2f-396d-4295-90d3-12045598a5b5\" class=\"plotly-graph-div\" style=\"height:525px; width:100%;\"></div>\n",
       "            <script type=\"text/javascript\">\n",
       "                require([\"plotly\"], function(Plotly) {\n",
       "                    window.PLOTLYENV=window.PLOTLYENV || {};\n",
       "                    \n",
       "                if (document.getElementById(\"839e6f2f-396d-4295-90d3-12045598a5b5\")) {\n",
       "                    Plotly.newPlot(\n",
       "                        '839e6f2f-396d-4295-90d3-12045598a5b5',\n",
       "                        [{\"type\": \"scatter\", \"x\": [\"28/04/2020\", \"29/04/2020\", \"30/04/2020\", \"01/05/2020\", \"02/05/2020\", \"03/05/2020\", \"04/05/2020\", \"05/05/2020\", \"06/05/2020\", \"07/05/2020\", \"08/05/2020\", \"09/05/2020\", \"10/05/2020\", \"11/05/2020\", \"12/05/2020\", \"13/05/2020\", \"14/05/2020\", \"15/05/2020\", \"16/05/2020\", \"17/05/2020\", \"18/05/2020\", \"19/05/2020\", \"20/05/2020\", \"21/05/2020\", \"22/05/2020\", \"23/05/2020\", \"24/05/2020\", \"25/05/2020\", \"26/05/2020\", \"27/05/2020\", \"28/05/2020\", \"29/05/2020\", \"30/05/2020\", \"31/05/2020\", \"01/06/2020\", \"02/06/2020\", \"03/06/2020\", \"04/06/2020\", \"05/06/2020\", \"06/06/2020\", \"07/06/2020\", \"08/06/2020\", \"09/06/2020\", \"10/06/2020\", \"11/06/2020\", \"12/06/2020\", \"13/06/2020\", \"14/06/2020\", \"15/06/2020\", \"16/06/2020\", \"17/06/2020\", \"18/06/2020\", \"19/06/2020\", \"20/06/2020\", \"21/06/2020\", \"22/06/2020\", \"23/06/2020\", \"24/06/2020\", \"25/06/2020\", \"26/06/2020\", \"27/06/2020\", \"28/06/2020\", \"29/06/2020\", \"30/06/2020\", \"01/07/2020\", \"02/07/2020\", \"03/07/2020\", \"04/07/2020\", \"05/07/2020\", \"06/07/2020\", \"07/07/2020\", \"08/07/2020\", \"09/07/2020\", \"10/07/2020\", \"11/07/2020\", \"12/07/2020\", \"13/07/2020\", \"14/07/2020\", \"15/07/2020\", \"16/07/2020\", \"17/07/2020\", \"18/07/2020\", \"19/07/2020\", \"20/07/2020\", \"21/07/2020\", \"22/07/2020\", \"23/07/2020\", \"24/07/2020\", \"25/07/2020\", \"26/07/2020\", \"27/07/2020\", \"28/07/2020\", \"29/07/2020\", \"30/07/2020\", \"31/07/2020\", \"01/08/2020\", \"02/08/2020\", \"03/08/2020\", \"04/08/2020\", \"05/08/2020\", \"06/08/2020\", \"07/08/2020\", \"08/08/2020\", \"09/08/2020\", \"10/08/2020\", \"11/08/2020\", \"12/08/2020\", \"13/08/2020\", \"14/08/2020\", \"15/08/2020\", \"16/08/2020\", \"17/08/2020\", \"18/08/2020\", \"19/08/2020\", \"20/08/2020\", \"21/08/2020\", \"22/08/2020\", \"23/08/2020\", \"24/08/2020\", \"25/08/2020\", \"26/08/2020\", \"27/08/2020\", \"28/08/2020\", \"29/08/2020\", \"30/08/2020\", \"31/08/2020\", \"01/09/2020\", \"02/09/2020\", \"03/09/2020\", \"04/09/2020\", \"05/09/2020\", \"06/09/2020\", \"07/09/2020\", \"08/09/2020\", \"09/09/2020\", \"10/09/2020\", \"11/09/2020\", \"12/09/2020\", \"13/09/2020\", \"14/09/2020\", \"15/09/2020\", \"16/09/2020\", \"17/09/2020\", \"18/09/2020\", \"19/09/2020\", \"20/09/2020\", \"21/09/2020\", \"22/09/2020\", \"23/09/2020\", \"24/09/2020\", \"25/09/2020\", \"26/09/2020\", \"27/09/2020\", \"28/09/2020\", \"29/09/2020\", \"30/09/2020\", \"01/10/2020\", \"02/10/2020\", \"03/10/2020\", \"04/10/2020\", \"05/10/2020\", \"06/10/2020\", \"07/10/2020\", \"08/10/2020\", \"09/10/2020\", \"10/10/2020\", \"11/10/2020\", \"12/10/2020\", \"13/10/2020\", \"14/10/2020\", \"15/10/2020\", \"16/10/2020\", \"17/10/2020\", \"18/10/2020\", \"19/10/2020\", \"20/10/2020\", \"21/10/2020\", \"22/10/2020\", \"23/10/2020\", \"24/10/2020\"], \"y\": [503, 516, 508, 500, 497, 489, 493, 497, 491, 488, 483, 478, 472, 473, 488, 486, 486, 493, 499, 502, 495, 483, 491, 489, 486, 482, 473, 470, 466, 470, 476, 475, 471, 457, 442, 429, 436, 443, 445, 449, 454, 455, 453, 449, 445, 449, 451, 455, 459, 463, 464, 467, 463, 456, 449, 441, 436, 439, 444, 452, 454, 444, 433, 431, 424, 413, 397, 407, 411, 407, 399, 402, 404, 423, 434, 431, 433, 438, 443, 442, 441, 448, 442, 432, 430, 429, 424, 422, 418, 422, 415, 414, 410, 410, 410, 408, 400, 400, 402, 403, 407, 410, 406, 405, 405, 409, 408, 408, 404, 401, 399, 400, 399, 400, 403, 406, 410, 406, 401, 393, 399, 398, 394, 397, 397, 399, 398, 398, 403, 406, 400, 402, 398, 396, 398, 400, 400, 399, 400, 400, 400, 399, 398, 399, 402, 399, 399, 387, 384, 386, 383, 386, 388, 390, 395, 392, 390, 389, 390, 386, 384, 388, 396, 410, 414, 415, 406, 402, 397, 392, 393, 394, 396, 394, 397, 403, 406, 407, 412, 412]}],\n",
       "                        {\"template\": {\"data\": {\"bar\": [{\"error_x\": {\"color\": \"#2a3f5f\"}, \"error_y\": {\"color\": \"#2a3f5f\"}, \"marker\": {\"line\": {\"color\": \"#E5ECF6\", \"width\": 0.5}}, \"type\": \"bar\"}], \"barpolar\": [{\"marker\": {\"line\": {\"color\": \"#E5ECF6\", \"width\": 0.5}}, \"type\": \"barpolar\"}], \"carpet\": [{\"aaxis\": {\"endlinecolor\": \"#2a3f5f\", \"gridcolor\": \"white\", \"linecolor\": \"white\", \"minorgridcolor\": \"white\", \"startlinecolor\": \"#2a3f5f\"}, \"baxis\": {\"endlinecolor\": \"#2a3f5f\", \"gridcolor\": \"white\", \"linecolor\": \"white\", \"minorgridcolor\": \"white\", \"startlinecolor\": \"#2a3f5f\"}, \"type\": \"carpet\"}], \"choropleth\": [{\"colorbar\": {\"outlinewidth\": 0, \"ticks\": \"\"}, \"type\": \"choropleth\"}], \"contour\": [{\"colorbar\": {\"outlinewidth\": 0, \"ticks\": \"\"}, \"colorscale\": [[0.0, \"#0d0887\"], [0.1111111111111111, \"#46039f\"], [0.2222222222222222, \"#7201a8\"], [0.3333333333333333, \"#9c179e\"], [0.4444444444444444, \"#bd3786\"], [0.5555555555555556, \"#d8576b\"], [0.6666666666666666, \"#ed7953\"], [0.7777777777777778, \"#fb9f3a\"], [0.8888888888888888, \"#fdca26\"], [1.0, \"#f0f921\"]], \"type\": \"contour\"}], \"contourcarpet\": [{\"colorbar\": {\"outlinewidth\": 0, \"ticks\": \"\"}, \"type\": \"contourcarpet\"}], \"heatmap\": [{\"colorbar\": {\"outlinewidth\": 0, \"ticks\": \"\"}, \"colorscale\": [[0.0, \"#0d0887\"], [0.1111111111111111, \"#46039f\"], [0.2222222222222222, \"#7201a8\"], [0.3333333333333333, \"#9c179e\"], [0.4444444444444444, \"#bd3786\"], [0.5555555555555556, \"#d8576b\"], [0.6666666666666666, \"#ed7953\"], [0.7777777777777778, \"#fb9f3a\"], [0.8888888888888888, \"#fdca26\"], [1.0, \"#f0f921\"]], \"type\": \"heatmap\"}], \"heatmapgl\": [{\"colorbar\": {\"outlinewidth\": 0, \"ticks\": \"\"}, \"colorscale\": [[0.0, \"#0d0887\"], [0.1111111111111111, \"#46039f\"], [0.2222222222222222, \"#7201a8\"], [0.3333333333333333, \"#9c179e\"], [0.4444444444444444, \"#bd3786\"], [0.5555555555555556, \"#d8576b\"], [0.6666666666666666, \"#ed7953\"], [0.7777777777777778, \"#fb9f3a\"], [0.8888888888888888, \"#fdca26\"], [1.0, \"#f0f921\"]], \"type\": \"heatmapgl\"}], \"histogram\": [{\"marker\": {\"colorbar\": {\"outlinewidth\": 0, \"ticks\": \"\"}}, \"type\": \"histogram\"}], \"histogram2d\": [{\"colorbar\": {\"outlinewidth\": 0, \"ticks\": \"\"}, \"colorscale\": [[0.0, \"#0d0887\"], [0.1111111111111111, \"#46039f\"], [0.2222222222222222, \"#7201a8\"], [0.3333333333333333, \"#9c179e\"], [0.4444444444444444, \"#bd3786\"], [0.5555555555555556, \"#d8576b\"], [0.6666666666666666, \"#ed7953\"], [0.7777777777777778, \"#fb9f3a\"], [0.8888888888888888, \"#fdca26\"], [1.0, \"#f0f921\"]], \"type\": \"histogram2d\"}], \"histogram2dcontour\": [{\"colorbar\": {\"outlinewidth\": 0, \"ticks\": \"\"}, \"colorscale\": [[0.0, \"#0d0887\"], [0.1111111111111111, \"#46039f\"], [0.2222222222222222, \"#7201a8\"], [0.3333333333333333, \"#9c179e\"], [0.4444444444444444, \"#bd3786\"], [0.5555555555555556, \"#d8576b\"], [0.6666666666666666, \"#ed7953\"], [0.7777777777777778, \"#fb9f3a\"], [0.8888888888888888, \"#fdca26\"], [1.0, \"#f0f921\"]], \"type\": \"histogram2dcontour\"}], \"mesh3d\": [{\"colorbar\": {\"outlinewidth\": 0, \"ticks\": \"\"}, \"type\": \"mesh3d\"}], \"parcoords\": [{\"line\": {\"colorbar\": {\"outlinewidth\": 0, \"ticks\": \"\"}}, \"type\": \"parcoords\"}], \"pie\": [{\"automargin\": true, \"type\": \"pie\"}], \"scatter\": [{\"marker\": {\"colorbar\": {\"outlinewidth\": 0, \"ticks\": \"\"}}, \"type\": \"scatter\"}], \"scatter3d\": [{\"line\": {\"colorbar\": {\"outlinewidth\": 0, \"ticks\": \"\"}}, \"marker\": {\"colorbar\": {\"outlinewidth\": 0, \"ticks\": \"\"}}, \"type\": \"scatter3d\"}], \"scattercarpet\": [{\"marker\": {\"colorbar\": {\"outlinewidth\": 0, \"ticks\": \"\"}}, \"type\": \"scattercarpet\"}], \"scattergeo\": [{\"marker\": {\"colorbar\": {\"outlinewidth\": 0, \"ticks\": \"\"}}, \"type\": \"scattergeo\"}], \"scattergl\": [{\"marker\": {\"colorbar\": {\"outlinewidth\": 0, \"ticks\": \"\"}}, \"type\": \"scattergl\"}], \"scattermapbox\": [{\"marker\": {\"colorbar\": {\"outlinewidth\": 0, \"ticks\": \"\"}}, \"type\": \"scattermapbox\"}], \"scatterpolar\": [{\"marker\": {\"colorbar\": {\"outlinewidth\": 0, \"ticks\": \"\"}}, \"type\": \"scatterpolar\"}], \"scatterpolargl\": [{\"marker\": {\"colorbar\": {\"outlinewidth\": 0, \"ticks\": \"\"}}, \"type\": \"scatterpolargl\"}], \"scatterternary\": [{\"marker\": {\"colorbar\": {\"outlinewidth\": 0, \"ticks\": \"\"}}, \"type\": \"scatterternary\"}], \"surface\": [{\"colorbar\": {\"outlinewidth\": 0, \"ticks\": \"\"}, \"colorscale\": [[0.0, \"#0d0887\"], [0.1111111111111111, \"#46039f\"], [0.2222222222222222, \"#7201a8\"], [0.3333333333333333, \"#9c179e\"], [0.4444444444444444, \"#bd3786\"], [0.5555555555555556, \"#d8576b\"], [0.6666666666666666, \"#ed7953\"], [0.7777777777777778, \"#fb9f3a\"], [0.8888888888888888, \"#fdca26\"], [1.0, \"#f0f921\"]], \"type\": \"surface\"}], \"table\": [{\"cells\": {\"fill\": {\"color\": \"#EBF0F8\"}, \"line\": {\"color\": \"white\"}}, \"header\": {\"fill\": {\"color\": \"#C8D4E3\"}, \"line\": {\"color\": \"white\"}}, \"type\": \"table\"}]}, \"layout\": {\"annotationdefaults\": {\"arrowcolor\": \"#2a3f5f\", \"arrowhead\": 0, \"arrowwidth\": 1}, \"coloraxis\": {\"colorbar\": {\"outlinewidth\": 0, \"ticks\": \"\"}}, \"colorscale\": {\"diverging\": [[0, \"#8e0152\"], [0.1, \"#c51b7d\"], [0.2, \"#de77ae\"], [0.3, \"#f1b6da\"], [0.4, \"#fde0ef\"], [0.5, \"#f7f7f7\"], [0.6, \"#e6f5d0\"], [0.7, \"#b8e186\"], [0.8, \"#7fbc41\"], [0.9, \"#4d9221\"], [1, \"#276419\"]], \"sequential\": [[0.0, \"#0d0887\"], [0.1111111111111111, \"#46039f\"], [0.2222222222222222, \"#7201a8\"], [0.3333333333333333, \"#9c179e\"], [0.4444444444444444, \"#bd3786\"], [0.5555555555555556, \"#d8576b\"], [0.6666666666666666, \"#ed7953\"], [0.7777777777777778, \"#fb9f3a\"], [0.8888888888888888, \"#fdca26\"], [1.0, \"#f0f921\"]], \"sequentialminus\": [[0.0, \"#0d0887\"], [0.1111111111111111, \"#46039f\"], [0.2222222222222222, \"#7201a8\"], [0.3333333333333333, \"#9c179e\"], [0.4444444444444444, \"#bd3786\"], [0.5555555555555556, \"#d8576b\"], [0.6666666666666666, \"#ed7953\"], [0.7777777777777778, \"#fb9f3a\"], [0.8888888888888888, \"#fdca26\"], [1.0, \"#f0f921\"]]}, \"colorway\": [\"#636efa\", \"#EF553B\", \"#00cc96\", \"#ab63fa\", \"#FFA15A\", \"#19d3f3\", \"#FF6692\", \"#B6E880\", \"#FF97FF\", \"#FECB52\"], \"font\": {\"color\": \"#2a3f5f\"}, \"geo\": {\"bgcolor\": \"white\", \"lakecolor\": \"white\", \"landcolor\": \"#E5ECF6\", \"showlakes\": true, \"showland\": true, \"subunitcolor\": \"white\"}, \"hoverlabel\": {\"align\": \"left\"}, \"hovermode\": \"closest\", \"mapbox\": {\"style\": \"light\"}, \"paper_bgcolor\": \"white\", \"plot_bgcolor\": \"#E5ECF6\", \"polar\": {\"angularaxis\": {\"gridcolor\": \"white\", \"linecolor\": \"white\", \"ticks\": \"\"}, \"bgcolor\": \"#E5ECF6\", \"radialaxis\": {\"gridcolor\": \"white\", \"linecolor\": \"white\", \"ticks\": \"\"}}, \"scene\": {\"xaxis\": {\"backgroundcolor\": \"#E5ECF6\", \"gridcolor\": \"white\", \"gridwidth\": 2, \"linecolor\": \"white\", \"showbackground\": true, \"ticks\": \"\", \"zerolinecolor\": \"white\"}, \"yaxis\": {\"backgroundcolor\": \"#E5ECF6\", \"gridcolor\": \"white\", \"gridwidth\": 2, \"linecolor\": \"white\", \"showbackground\": true, \"ticks\": \"\", \"zerolinecolor\": \"white\"}, \"zaxis\": {\"backgroundcolor\": \"#E5ECF6\", \"gridcolor\": \"white\", \"gridwidth\": 2, \"linecolor\": \"white\", \"showbackground\": true, \"ticks\": \"\", \"zerolinecolor\": \"white\"}}, \"shapedefaults\": {\"line\": {\"color\": \"#2a3f5f\"}}, \"ternary\": {\"aaxis\": {\"gridcolor\": \"white\", \"linecolor\": \"white\", \"ticks\": \"\"}, \"baxis\": {\"gridcolor\": \"white\", \"linecolor\": \"white\", \"ticks\": \"\"}, \"bgcolor\": \"#E5ECF6\", \"caxis\": {\"gridcolor\": \"white\", \"linecolor\": \"white\", \"ticks\": \"\"}}, \"title\": {\"x\": 0.05}, \"xaxis\": {\"automargin\": true, \"gridcolor\": \"white\", \"linecolor\": \"white\", \"ticks\": \"\", \"title\": {\"standoff\": 15}, \"zerolinecolor\": \"white\", \"zerolinewidth\": 2}, \"yaxis\": {\"automargin\": true, \"gridcolor\": \"white\", \"linecolor\": \"white\", \"ticks\": \"\", \"title\": {\"standoff\": 15}, \"zerolinecolor\": \"white\", \"zerolinewidth\": 2}}}, \"title\": {\"text\": \"Uncut sapphire daily price\"}},\n",
       "                        {\"responsive\": true}\n",
       "                    ).then(function(){\n",
       "                            \n",
       "var gd = document.getElementById('839e6f2f-396d-4295-90d3-12045598a5b5');\n",
       "var x = new MutationObserver(function (mutations, observer) {{\n",
       "        var display = window.getComputedStyle(gd).display;\n",
       "        if (!display || display === 'none') {{\n",
       "            console.log([gd, 'removed!']);\n",
       "            Plotly.purge(gd);\n",
       "            observer.disconnect();\n",
       "        }}\n",
       "}});\n",
       "\n",
       "// Listen for the removal of the full notebook cells\n",
       "var notebookContainer = gd.closest('#notebook-container');\n",
       "if (notebookContainer) {{\n",
       "    x.observe(notebookContainer, {childList: true});\n",
       "}}\n",
       "\n",
       "// Listen for the clearing of the current output cell\n",
       "var outputEl = gd.closest('.output');\n",
       "if (outputEl) {{\n",
       "    x.observe(outputEl, {childList: true});\n",
       "}}\n",
       "\n",
       "                        })\n",
       "                };\n",
       "                });\n",
       "            </script>\n",
       "        </div>"
      ]
     },
     "metadata": {},
     "output_type": "display_data"
    }
   ],
   "source": [
    "def convert_to_datetime(row):\n",
    "    epoch_time = str(row['timestamp'])[0: 10]\n",
    "    return datetime.datetime.fromtimestamp(float(epoch_time)).strftime('%d/%m/%Y')\n",
    "\n",
    "dailyPriceDF = pd.DataFrame(dailyPriceJSON.items(), columns= [\"timestamp\", \"price\"])\n",
    "dailyPriceDF['timestamp_formatted'] = dailyPriceDF.apply(lambda row: convert_to_datetime(row), axis=1)\n",
    "dailyPriceDF\n",
    "fig = go.Figure(data=go.Scatter(x=dailyPriceDF['timestamp_formatted'], y=dailyPriceDF['price']))\n",
    "fig.update_layout(title=item + \" daily price\")\n",
    "fig.show()"
   ]
  },
  {
   "cell_type": "markdown",
   "metadata": {},
   "source": [
    "### Member item list"
   ]
  },
  {
   "cell_type": "code",
   "execution_count": 67,
   "metadata": {
    "scrolled": true
   },
   "outputs": [
    {
     "data": {
      "text/html": [
       "<div>\n",
       "<style scoped>\n",
       "    .dataframe tbody tr th:only-of-type {\n",
       "        vertical-align: middle;\n",
       "    }\n",
       "\n",
       "    .dataframe tbody tr th {\n",
       "        vertical-align: top;\n",
       "    }\n",
       "\n",
       "    .dataframe thead th {\n",
       "        text-align: right;\n",
       "    }\n",
       "</style>\n",
       "<table border=\"1\" class=\"dataframe\">\n",
       "  <thead>\n",
       "    <tr style=\"text-align: right;\">\n",
       "      <th></th>\n",
       "      <th>name</th>\n",
       "      <th>buy_average</th>\n",
       "      <th>sell_average</th>\n",
       "      <th>buy_quantity</th>\n",
       "      <th>margin</th>\n",
       "    </tr>\n",
       "  </thead>\n",
       "  <tbody>\n",
       "    <tr>\n",
       "      <th>2</th>\n",
       "      <td>Cannonball</td>\n",
       "      <td>146</td>\n",
       "      <td>145</td>\n",
       "      <td>329621</td>\n",
       "      <td>1</td>\n",
       "    </tr>\n",
       "    <tr>\n",
       "      <th>6</th>\n",
       "      <td>Cannon base</td>\n",
       "      <td>185503</td>\n",
       "      <td>184352</td>\n",
       "      <td>1</td>\n",
       "      <td>1151</td>\n",
       "    </tr>\n",
       "    <tr>\n",
       "      <th>8</th>\n",
       "      <td>Cannon stand</td>\n",
       "      <td>188064</td>\n",
       "      <td>187105</td>\n",
       "      <td>1</td>\n",
       "      <td>959</td>\n",
       "    </tr>\n",
       "    <tr>\n",
       "      <th>10</th>\n",
       "      <td>Cannon barrels</td>\n",
       "      <td>185260</td>\n",
       "      <td>185061</td>\n",
       "      <td>1</td>\n",
       "      <td>199</td>\n",
       "    </tr>\n",
       "    <tr>\n",
       "      <th>12</th>\n",
       "      <td>Cannon furnace</td>\n",
       "      <td>189715</td>\n",
       "      <td>188536</td>\n",
       "      <td>1</td>\n",
       "      <td>1179</td>\n",
       "    </tr>\n",
       "    <tr>\n",
       "      <th>28</th>\n",
       "      <td>Insect repellent</td>\n",
       "      <td>184</td>\n",
       "      <td>0</td>\n",
       "      <td>1</td>\n",
       "      <td>184</td>\n",
       "    </tr>\n",
       "    <tr>\n",
       "      <th>30</th>\n",
       "      <td>Bucket of wax</td>\n",
       "      <td>1450</td>\n",
       "      <td>0</td>\n",
       "      <td>5</td>\n",
       "      <td>1450</td>\n",
       "    </tr>\n",
       "    <tr>\n",
       "      <th>36</th>\n",
       "      <td>Candle</td>\n",
       "      <td>585</td>\n",
       "      <td>525</td>\n",
       "      <td>16</td>\n",
       "      <td>60</td>\n",
       "    </tr>\n",
       "    <tr>\n",
       "      <th>39</th>\n",
       "      <td>Bronze arrowtips</td>\n",
       "      <td>6</td>\n",
       "      <td>5</td>\n",
       "      <td>2300</td>\n",
       "      <td>1</td>\n",
       "    </tr>\n",
       "    <tr>\n",
       "      <th>40</th>\n",
       "      <td>Iron arrowtips</td>\n",
       "      <td>12</td>\n",
       "      <td>8</td>\n",
       "      <td>8105</td>\n",
       "      <td>4</td>\n",
       "    </tr>\n",
       "    <tr>\n",
       "      <th>41</th>\n",
       "      <td>Steel arrowtips</td>\n",
       "      <td>33</td>\n",
       "      <td>33</td>\n",
       "      <td>3000</td>\n",
       "      <td>0</td>\n",
       "    </tr>\n",
       "    <tr>\n",
       "      <th>42</th>\n",
       "      <td>Mithril arrowtips</td>\n",
       "      <td>0</td>\n",
       "      <td>0</td>\n",
       "      <td>0</td>\n",
       "      <td>0</td>\n",
       "    </tr>\n",
       "    <tr>\n",
       "      <th>43</th>\n",
       "      <td>Adamant arrowtips</td>\n",
       "      <td>110</td>\n",
       "      <td>108</td>\n",
       "      <td>2000</td>\n",
       "      <td>2</td>\n",
       "    </tr>\n",
       "    <tr>\n",
       "      <th>44</th>\n",
       "      <td>Rune arrowtips</td>\n",
       "      <td>0</td>\n",
       "      <td>205</td>\n",
       "      <td>0</td>\n",
       "      <td>205</td>\n",
       "    </tr>\n",
       "    <tr>\n",
       "      <th>45</th>\n",
       "      <td>Opal bolt tips</td>\n",
       "      <td>0</td>\n",
       "      <td>2</td>\n",
       "      <td>0</td>\n",
       "      <td>2</td>\n",
       "    </tr>\n",
       "    <tr>\n",
       "      <th>46</th>\n",
       "      <td>Pearl bolt tips</td>\n",
       "      <td>0</td>\n",
       "      <td>0</td>\n",
       "      <td>0</td>\n",
       "      <td>0</td>\n",
       "    </tr>\n",
       "    <tr>\n",
       "      <th>47</th>\n",
       "      <td>Barb bolttips</td>\n",
       "      <td>0</td>\n",
       "      <td>0</td>\n",
       "      <td>0</td>\n",
       "      <td>0</td>\n",
       "    </tr>\n",
       "    <tr>\n",
       "      <th>48</th>\n",
       "      <td>Longbow (u)</td>\n",
       "      <td>0</td>\n",
       "      <td>10</td>\n",
       "      <td>0</td>\n",
       "      <td>10</td>\n",
       "    </tr>\n",
       "    <tr>\n",
       "      <th>50</th>\n",
       "      <td>Shortbow (u)</td>\n",
       "      <td>0</td>\n",
       "      <td>1</td>\n",
       "      <td>0</td>\n",
       "      <td>1</td>\n",
       "    </tr>\n",
       "    <tr>\n",
       "      <th>52</th>\n",
       "      <td>Arrow shaft</td>\n",
       "      <td>1</td>\n",
       "      <td>1</td>\n",
       "      <td>17007</td>\n",
       "      <td>0</td>\n",
       "    </tr>\n",
       "    <tr>\n",
       "      <th>53</th>\n",
       "      <td>Headless arrow</td>\n",
       "      <td>8</td>\n",
       "      <td>9</td>\n",
       "      <td>20600</td>\n",
       "      <td>1</td>\n",
       "    </tr>\n",
       "    <tr>\n",
       "      <th>54</th>\n",
       "      <td>Oak shortbow (u)</td>\n",
       "      <td>10</td>\n",
       "      <td>6</td>\n",
       "      <td>1</td>\n",
       "      <td>4</td>\n",
       "    </tr>\n",
       "    <tr>\n",
       "      <th>56</th>\n",
       "      <td>Oak longbow (u)</td>\n",
       "      <td>17</td>\n",
       "      <td>0</td>\n",
       "      <td>948</td>\n",
       "      <td>17</td>\n",
       "    </tr>\n",
       "    <tr>\n",
       "      <th>58</th>\n",
       "      <td>Willow longbow (u)</td>\n",
       "      <td>35</td>\n",
       "      <td>33</td>\n",
       "      <td>10000</td>\n",
       "      <td>2</td>\n",
       "    </tr>\n",
       "    <tr>\n",
       "      <th>60</th>\n",
       "      <td>Willow shortbow (u)</td>\n",
       "      <td>50</td>\n",
       "      <td>35</td>\n",
       "      <td>153</td>\n",
       "      <td>15</td>\n",
       "    </tr>\n",
       "    <tr>\n",
       "      <th>62</th>\n",
       "      <td>Maple longbow (u)</td>\n",
       "      <td>60</td>\n",
       "      <td>58</td>\n",
       "      <td>4001</td>\n",
       "      <td>2</td>\n",
       "    </tr>\n",
       "    <tr>\n",
       "      <th>64</th>\n",
       "      <td>Maple shortbow (u)</td>\n",
       "      <td>74</td>\n",
       "      <td>62</td>\n",
       "      <td>1</td>\n",
       "      <td>12</td>\n",
       "    </tr>\n",
       "    <tr>\n",
       "      <th>66</th>\n",
       "      <td>Yew longbow (u)</td>\n",
       "      <td>319</td>\n",
       "      <td>303</td>\n",
       "      <td>1</td>\n",
       "      <td>16</td>\n",
       "    </tr>\n",
       "    <tr>\n",
       "      <th>68</th>\n",
       "      <td>Yew shortbow (u)</td>\n",
       "      <td>0</td>\n",
       "      <td>69</td>\n",
       "      <td>0</td>\n",
       "      <td>69</td>\n",
       "    </tr>\n",
       "    <tr>\n",
       "      <th>70</th>\n",
       "      <td>Magic longbow (u)</td>\n",
       "      <td>1020</td>\n",
       "      <td>1038</td>\n",
       "      <td>10000</td>\n",
       "      <td>18</td>\n",
       "    </tr>\n",
       "    <tr>\n",
       "      <th>...</th>\n",
       "      <td>...</td>\n",
       "      <td>...</td>\n",
       "      <td>...</td>\n",
       "      <td>...</td>\n",
       "      <td>...</td>\n",
       "    </tr>\n",
       "    <tr>\n",
       "      <th>7664</th>\n",
       "      <td>Guthix balance(2)</td>\n",
       "      <td>0</td>\n",
       "      <td>0</td>\n",
       "      <td>0</td>\n",
       "      <td>0</td>\n",
       "    </tr>\n",
       "    <tr>\n",
       "      <th>7666</th>\n",
       "      <td>Guthix balance(1)</td>\n",
       "      <td>0</td>\n",
       "      <td>0</td>\n",
       "      <td>0</td>\n",
       "      <td>0</td>\n",
       "    </tr>\n",
       "    <tr>\n",
       "      <th>7668</th>\n",
       "      <td>Gadderhammer</td>\n",
       "      <td>0</td>\n",
       "      <td>0</td>\n",
       "      <td>0</td>\n",
       "      <td>0</td>\n",
       "    </tr>\n",
       "    <tr>\n",
       "      <th>7759</th>\n",
       "      <td>Toy soldier</td>\n",
       "      <td>1587</td>\n",
       "      <td>0</td>\n",
       "      <td>1</td>\n",
       "      <td>1587</td>\n",
       "    </tr>\n",
       "    <tr>\n",
       "      <th>7761</th>\n",
       "      <td>Toy soldier (wound)</td>\n",
       "      <td>2129</td>\n",
       "      <td>0</td>\n",
       "      <td>1</td>\n",
       "      <td>2129</td>\n",
       "    </tr>\n",
       "    <tr>\n",
       "      <th>7763</th>\n",
       "      <td>Toy doll</td>\n",
       "      <td>2944</td>\n",
       "      <td>0</td>\n",
       "      <td>2</td>\n",
       "      <td>2944</td>\n",
       "    </tr>\n",
       "    <tr>\n",
       "      <th>7765</th>\n",
       "      <td>Toy doll (wound)</td>\n",
       "      <td>2084</td>\n",
       "      <td>0</td>\n",
       "      <td>1</td>\n",
       "      <td>2084</td>\n",
       "    </tr>\n",
       "    <tr>\n",
       "      <th>7767</th>\n",
       "      <td>Toy mouse</td>\n",
       "      <td>1030</td>\n",
       "      <td>1021</td>\n",
       "      <td>1</td>\n",
       "      <td>9</td>\n",
       "    </tr>\n",
       "    <tr>\n",
       "      <th>7769</th>\n",
       "      <td>Toy mouse (wound)</td>\n",
       "      <td>490</td>\n",
       "      <td>0</td>\n",
       "      <td>1</td>\n",
       "      <td>490</td>\n",
       "    </tr>\n",
       "    <tr>\n",
       "      <th>7771</th>\n",
       "      <td>Toy cat</td>\n",
       "      <td>5000</td>\n",
       "      <td>0</td>\n",
       "      <td>12</td>\n",
       "      <td>5000</td>\n",
       "    </tr>\n",
       "    <tr>\n",
       "      <th>7801</th>\n",
       "      <td>Snake hide</td>\n",
       "      <td>0</td>\n",
       "      <td>0</td>\n",
       "      <td>0</td>\n",
       "      <td>0</td>\n",
       "    </tr>\n",
       "    <tr>\n",
       "      <th>7919</th>\n",
       "      <td>Bottle of wine</td>\n",
       "      <td>0</td>\n",
       "      <td>0</td>\n",
       "      <td>0</td>\n",
       "      <td>0</td>\n",
       "    </tr>\n",
       "    <tr>\n",
       "      <th>7939</th>\n",
       "      <td>Tortoise shell</td>\n",
       "      <td>0</td>\n",
       "      <td>0</td>\n",
       "      <td>0</td>\n",
       "      <td>0</td>\n",
       "    </tr>\n",
       "    <tr>\n",
       "      <th>7944</th>\n",
       "      <td>Raw monkfish</td>\n",
       "      <td>297</td>\n",
       "      <td>299</td>\n",
       "      <td>805</td>\n",
       "      <td>2</td>\n",
       "    </tr>\n",
       "    <tr>\n",
       "      <th>7946</th>\n",
       "      <td>Monkfish</td>\n",
       "      <td>385</td>\n",
       "      <td>383</td>\n",
       "      <td>5294</td>\n",
       "      <td>2</td>\n",
       "    </tr>\n",
       "    <tr>\n",
       "      <th>8007</th>\n",
       "      <td>Varrock teleport</td>\n",
       "      <td>481</td>\n",
       "      <td>473</td>\n",
       "      <td>945</td>\n",
       "      <td>8</td>\n",
       "    </tr>\n",
       "    <tr>\n",
       "      <th>8008</th>\n",
       "      <td>Lumbridge teleport</td>\n",
       "      <td>769</td>\n",
       "      <td>785</td>\n",
       "      <td>410</td>\n",
       "      <td>16</td>\n",
       "    </tr>\n",
       "    <tr>\n",
       "      <th>8009</th>\n",
       "      <td>Falador teleport</td>\n",
       "      <td>465</td>\n",
       "      <td>452</td>\n",
       "      <td>577</td>\n",
       "      <td>13</td>\n",
       "    </tr>\n",
       "    <tr>\n",
       "      <th>8010</th>\n",
       "      <td>Camelot teleport</td>\n",
       "      <td>341</td>\n",
       "      <td>330</td>\n",
       "      <td>652</td>\n",
       "      <td>11</td>\n",
       "    </tr>\n",
       "    <tr>\n",
       "      <th>8011</th>\n",
       "      <td>Ardougne teleport</td>\n",
       "      <td>485</td>\n",
       "      <td>473</td>\n",
       "      <td>375</td>\n",
       "      <td>12</td>\n",
       "    </tr>\n",
       "    <tr>\n",
       "      <th>8012</th>\n",
       "      <td>Watchtower teleport</td>\n",
       "      <td>171</td>\n",
       "      <td>0</td>\n",
       "      <td>1</td>\n",
       "      <td>171</td>\n",
       "    </tr>\n",
       "    <tr>\n",
       "      <th>8013</th>\n",
       "      <td>Teleport to house</td>\n",
       "      <td>495</td>\n",
       "      <td>499</td>\n",
       "      <td>4673</td>\n",
       "      <td>4</td>\n",
       "    </tr>\n",
       "    <tr>\n",
       "      <th>8014</th>\n",
       "      <td>Bones to bananas</td>\n",
       "      <td>0</td>\n",
       "      <td>586</td>\n",
       "      <td>0</td>\n",
       "      <td>586</td>\n",
       "    </tr>\n",
       "    <tr>\n",
       "      <th>8015</th>\n",
       "      <td>Bones to peaches</td>\n",
       "      <td>807</td>\n",
       "      <td>760</td>\n",
       "      <td>470</td>\n",
       "      <td>47</td>\n",
       "    </tr>\n",
       "    <tr>\n",
       "      <th>8016</th>\n",
       "      <td>Enchant sapphire or opal</td>\n",
       "      <td>0</td>\n",
       "      <td>0</td>\n",
       "      <td>0</td>\n",
       "      <td>0</td>\n",
       "    </tr>\n",
       "    <tr>\n",
       "      <th>8017</th>\n",
       "      <td>Enchant emerald or jade</td>\n",
       "      <td>0</td>\n",
       "      <td>0</td>\n",
       "      <td>0</td>\n",
       "      <td>0</td>\n",
       "    </tr>\n",
       "    <tr>\n",
       "      <th>8018</th>\n",
       "      <td>Enchant ruby or topaz</td>\n",
       "      <td>0</td>\n",
       "      <td>0</td>\n",
       "      <td>0</td>\n",
       "      <td>0</td>\n",
       "    </tr>\n",
       "    <tr>\n",
       "      <th>8019</th>\n",
       "      <td>Enchant diamond</td>\n",
       "      <td>0</td>\n",
       "      <td>0</td>\n",
       "      <td>0</td>\n",
       "      <td>0</td>\n",
       "    </tr>\n",
       "    <tr>\n",
       "      <th>8020</th>\n",
       "      <td>Enchant dragonstone</td>\n",
       "      <td>0</td>\n",
       "      <td>0</td>\n",
       "      <td>0</td>\n",
       "      <td>0</td>\n",
       "    </tr>\n",
       "    <tr>\n",
       "      <th>8021</th>\n",
       "      <td>Enchant onyx</td>\n",
       "      <td>0</td>\n",
       "      <td>0</td>\n",
       "      <td>0</td>\n",
       "      <td>0</td>\n",
       "    </tr>\n",
       "  </tbody>\n",
       "</table>\n",
       "<p>2852 rows × 5 columns</p>\n",
       "</div>"
      ],
      "text/plain": [
       "                          name buy_average sell_average buy_quantity  margin\n",
       "2                   Cannonball         146          145       329621       1\n",
       "6                  Cannon base      185503       184352            1    1151\n",
       "8                 Cannon stand      188064       187105            1     959\n",
       "10              Cannon barrels      185260       185061            1     199\n",
       "12              Cannon furnace      189715       188536            1    1179\n",
       "28            Insect repellent         184            0            1     184\n",
       "30               Bucket of wax        1450            0            5    1450\n",
       "36                      Candle         585          525           16      60\n",
       "39            Bronze arrowtips           6            5         2300       1\n",
       "40              Iron arrowtips          12            8         8105       4\n",
       "41             Steel arrowtips          33           33         3000       0\n",
       "42           Mithril arrowtips           0            0            0       0\n",
       "43           Adamant arrowtips         110          108         2000       2\n",
       "44              Rune arrowtips           0          205            0     205\n",
       "45              Opal bolt tips           0            2            0       2\n",
       "46             Pearl bolt tips           0            0            0       0\n",
       "47               Barb bolttips           0            0            0       0\n",
       "48                 Longbow (u)           0           10            0      10\n",
       "50                Shortbow (u)           0            1            0       1\n",
       "52                 Arrow shaft           1            1        17007       0\n",
       "53              Headless arrow           8            9        20600       1\n",
       "54            Oak shortbow (u)          10            6            1       4\n",
       "56             Oak longbow (u)          17            0          948      17\n",
       "58          Willow longbow (u)          35           33        10000       2\n",
       "60         Willow shortbow (u)          50           35          153      15\n",
       "62           Maple longbow (u)          60           58         4001       2\n",
       "64          Maple shortbow (u)          74           62            1      12\n",
       "66             Yew longbow (u)         319          303            1      16\n",
       "68            Yew shortbow (u)           0           69            0      69\n",
       "70           Magic longbow (u)        1020         1038        10000      18\n",
       "...                        ...         ...          ...          ...     ...\n",
       "7664         Guthix balance(2)           0            0            0       0\n",
       "7666         Guthix balance(1)           0            0            0       0\n",
       "7668              Gadderhammer           0            0            0       0\n",
       "7759               Toy soldier        1587            0            1    1587\n",
       "7761       Toy soldier (wound)        2129            0            1    2129\n",
       "7763                  Toy doll        2944            0            2    2944\n",
       "7765          Toy doll (wound)        2084            0            1    2084\n",
       "7767                 Toy mouse        1030         1021            1       9\n",
       "7769         Toy mouse (wound)         490            0            1     490\n",
       "7771                   Toy cat        5000            0           12    5000\n",
       "7801                Snake hide           0            0            0       0\n",
       "7919            Bottle of wine           0            0            0       0\n",
       "7939            Tortoise shell           0            0            0       0\n",
       "7944              Raw monkfish         297          299          805       2\n",
       "7946                  Monkfish         385          383         5294       2\n",
       "8007          Varrock teleport         481          473          945       8\n",
       "8008        Lumbridge teleport         769          785          410      16\n",
       "8009          Falador teleport         465          452          577      13\n",
       "8010          Camelot teleport         341          330          652      11\n",
       "8011         Ardougne teleport         485          473          375      12\n",
       "8012       Watchtower teleport         171            0            1     171\n",
       "8013         Teleport to house         495          499         4673       4\n",
       "8014          Bones to bananas           0          586            0     586\n",
       "8015          Bones to peaches         807          760          470      47\n",
       "8016  Enchant sapphire or opal           0            0            0       0\n",
       "8017   Enchant emerald or jade           0            0            0       0\n",
       "8018     Enchant ruby or topaz           0            0            0       0\n",
       "8019           Enchant diamond           0            0            0       0\n",
       "8020       Enchant dragonstone           0            0            0       0\n",
       "8021              Enchant onyx           0            0            0       0\n",
       "\n",
       "[2852 rows x 5 columns]"
      ]
     },
     "execution_count": 67,
     "metadata": {},
     "output_type": "execute_result"
    }
   ],
   "source": [
    "df_members = df.loc[df[\"members\"]==True][[\"name\", \"buy_average\", \"sell_average\", \"buy_quantity\", \"margin\"]]\n",
    "df_members"
   ]
  },
  {
   "cell_type": "markdown",
   "metadata": {},
   "source": [
    "### Non member list sorted by buy quantity"
   ]
  },
  {
   "cell_type": "code",
   "execution_count": 7,
   "metadata": {},
   "outputs": [
    {
     "data": {
      "text/html": [
       "<div>\n",
       "<style scoped>\n",
       "    .dataframe tbody tr th:only-of-type {\n",
       "        vertical-align: middle;\n",
       "    }\n",
       "\n",
       "    .dataframe tbody tr th {\n",
       "        vertical-align: top;\n",
       "    }\n",
       "\n",
       "    .dataframe thead th {\n",
       "        text-align: right;\n",
       "    }\n",
       "</style>\n",
       "<table border=\"1\" class=\"dataframe\">\n",
       "  <thead>\n",
       "    <tr style=\"text-align: right;\">\n",
       "      <th></th>\n",
       "      <th>name</th>\n",
       "      <th>buy_average</th>\n",
       "      <th>sell_average</th>\n",
       "      <th>buy_quantity</th>\n",
       "      <th>margin</th>\n",
       "    </tr>\n",
       "  </thead>\n",
       "  <tbody>\n",
       "    <tr>\n",
       "      <th>560</th>\n",
       "      <td>Death rune</td>\n",
       "      <td>206</td>\n",
       "      <td>208</td>\n",
       "      <td>550522</td>\n",
       "      <td>2</td>\n",
       "    </tr>\n",
       "    <tr>\n",
       "      <th>562</th>\n",
       "      <td>Chaos rune</td>\n",
       "      <td>77</td>\n",
       "      <td>78</td>\n",
       "      <td>524588</td>\n",
       "      <td>1</td>\n",
       "    </tr>\n",
       "    <tr>\n",
       "      <th>554</th>\n",
       "      <td>Fire rune</td>\n",
       "      <td>4</td>\n",
       "      <td>4</td>\n",
       "      <td>505960</td>\n",
       "      <td>0</td>\n",
       "    </tr>\n",
       "    <tr>\n",
       "      <th>447</th>\n",
       "      <td>Mithril ore</td>\n",
       "      <td>139</td>\n",
       "      <td>143</td>\n",
       "      <td>388606</td>\n",
       "      <td>4</td>\n",
       "    </tr>\n",
       "    <tr>\n",
       "      <th>7936</th>\n",
       "      <td>Pure essence</td>\n",
       "      <td>2</td>\n",
       "      <td>2</td>\n",
       "      <td>306968</td>\n",
       "      <td>0</td>\n",
       "    </tr>\n",
       "    <tr>\n",
       "      <th>556</th>\n",
       "      <td>Air rune</td>\n",
       "      <td>4</td>\n",
       "      <td>4</td>\n",
       "      <td>257025</td>\n",
       "      <td>0</td>\n",
       "    </tr>\n",
       "    <tr>\n",
       "      <th>2353</th>\n",
       "      <td>Steel bar</td>\n",
       "      <td>383</td>\n",
       "      <td>380</td>\n",
       "      <td>232335</td>\n",
       "      <td>3</td>\n",
       "    </tr>\n",
       "    <tr>\n",
       "      <th>561</th>\n",
       "      <td>Nature rune</td>\n",
       "      <td>207</td>\n",
       "      <td>206</td>\n",
       "      <td>211453</td>\n",
       "      <td>1</td>\n",
       "    </tr>\n",
       "    <tr>\n",
       "      <th>314</th>\n",
       "      <td>Feather</td>\n",
       "      <td>2</td>\n",
       "      <td>2</td>\n",
       "      <td>199028</td>\n",
       "      <td>0</td>\n",
       "    </tr>\n",
       "    <tr>\n",
       "      <th>453</th>\n",
       "      <td>Coal</td>\n",
       "      <td>142</td>\n",
       "      <td>141</td>\n",
       "      <td>196803</td>\n",
       "      <td>1</td>\n",
       "    </tr>\n",
       "    <tr>\n",
       "      <th>558</th>\n",
       "      <td>Mind rune</td>\n",
       "      <td>4</td>\n",
       "      <td>3</td>\n",
       "      <td>154375</td>\n",
       "      <td>1</td>\n",
       "    </tr>\n",
       "    <tr>\n",
       "      <th>440</th>\n",
       "      <td>Iron ore</td>\n",
       "      <td>77</td>\n",
       "      <td>77</td>\n",
       "      <td>153335</td>\n",
       "      <td>0</td>\n",
       "    </tr>\n",
       "    <tr>\n",
       "      <th>555</th>\n",
       "      <td>Water rune</td>\n",
       "      <td>5</td>\n",
       "      <td>4</td>\n",
       "      <td>129582</td>\n",
       "      <td>1</td>\n",
       "    </tr>\n",
       "    <tr>\n",
       "      <th>564</th>\n",
       "      <td>Cosmic rune</td>\n",
       "      <td>140</td>\n",
       "      <td>137</td>\n",
       "      <td>123366</td>\n",
       "      <td>3</td>\n",
       "    </tr>\n",
       "    <tr>\n",
       "      <th>563</th>\n",
       "      <td>Law rune</td>\n",
       "      <td>181</td>\n",
       "      <td>180</td>\n",
       "      <td>95593</td>\n",
       "      <td>1</td>\n",
       "    </tr>\n",
       "    <tr>\n",
       "      <th>444</th>\n",
       "      <td>Gold ore</td>\n",
       "      <td>311</td>\n",
       "      <td>311</td>\n",
       "      <td>52707</td>\n",
       "      <td>0</td>\n",
       "    </tr>\n",
       "    <tr>\n",
       "      <th>2357</th>\n",
       "      <td>Gold bar</td>\n",
       "      <td>94</td>\n",
       "      <td>92</td>\n",
       "      <td>49621</td>\n",
       "      <td>2</td>\n",
       "    </tr>\n",
       "    <tr>\n",
       "      <th>227</th>\n",
       "      <td>Vial of water</td>\n",
       "      <td>4</td>\n",
       "      <td>3</td>\n",
       "      <td>48505</td>\n",
       "      <td>1</td>\n",
       "    </tr>\n",
       "    <tr>\n",
       "      <th>2361</th>\n",
       "      <td>Adamantite bar</td>\n",
       "      <td>2013</td>\n",
       "      <td>2013</td>\n",
       "      <td>47976</td>\n",
       "      <td>0</td>\n",
       "    </tr>\n",
       "    <tr>\n",
       "      <th>884</th>\n",
       "      <td>Iron arrow</td>\n",
       "      <td>5</td>\n",
       "      <td>5</td>\n",
       "      <td>46800</td>\n",
       "      <td>0</td>\n",
       "    </tr>\n",
       "    <tr>\n",
       "      <th>886</th>\n",
       "      <td>Steel arrow</td>\n",
       "      <td>33</td>\n",
       "      <td>31</td>\n",
       "      <td>46427</td>\n",
       "      <td>2</td>\n",
       "    </tr>\n",
       "    <tr>\n",
       "      <th>557</th>\n",
       "      <td>Earth rune</td>\n",
       "      <td>5</td>\n",
       "      <td>4</td>\n",
       "      <td>45465</td>\n",
       "      <td>1</td>\n",
       "    </tr>\n",
       "    <tr>\n",
       "      <th>890</th>\n",
       "      <td>Adamant arrow</td>\n",
       "      <td>67</td>\n",
       "      <td>65</td>\n",
       "      <td>35140</td>\n",
       "      <td>2</td>\n",
       "    </tr>\n",
       "    <tr>\n",
       "      <th>1515</th>\n",
       "      <td>Yew logs</td>\n",
       "      <td>206</td>\n",
       "      <td>205</td>\n",
       "      <td>30251</td>\n",
       "      <td>1</td>\n",
       "    </tr>\n",
       "    <tr>\n",
       "      <th>2359</th>\n",
       "      <td>Mithril bar</td>\n",
       "      <td>645</td>\n",
       "      <td>646</td>\n",
       "      <td>27157</td>\n",
       "      <td>1</td>\n",
       "    </tr>\n",
       "    <tr>\n",
       "      <th>1436</th>\n",
       "      <td>Rune essence</td>\n",
       "      <td>13</td>\n",
       "      <td>12</td>\n",
       "      <td>21155</td>\n",
       "      <td>1</td>\n",
       "    </tr>\n",
       "    <tr>\n",
       "      <th>1987</th>\n",
       "      <td>Grapes</td>\n",
       "      <td>104</td>\n",
       "      <td>102</td>\n",
       "      <td>19094</td>\n",
       "      <td>2</td>\n",
       "    </tr>\n",
       "    <tr>\n",
       "      <th>888</th>\n",
       "      <td>Mithril arrow</td>\n",
       "      <td>23</td>\n",
       "      <td>22</td>\n",
       "      <td>19010</td>\n",
       "      <td>1</td>\n",
       "    </tr>\n",
       "    <tr>\n",
       "      <th>5525</th>\n",
       "      <td>Tiara</td>\n",
       "      <td>93</td>\n",
       "      <td>96</td>\n",
       "      <td>18991</td>\n",
       "      <td>3</td>\n",
       "    </tr>\n",
       "    <tr>\n",
       "      <th>373</th>\n",
       "      <td>Swordfish</td>\n",
       "      <td>230</td>\n",
       "      <td>222</td>\n",
       "      <td>18432</td>\n",
       "      <td>8</td>\n",
       "    </tr>\n",
       "    <tr>\n",
       "      <th>...</th>\n",
       "      <td>...</td>\n",
       "      <td>...</td>\n",
       "      <td>...</td>\n",
       "      <td>...</td>\n",
       "      <td>...</td>\n",
       "    </tr>\n",
       "    <tr>\n",
       "      <th>1265</th>\n",
       "      <td>Bronze pickaxe</td>\n",
       "      <td>167</td>\n",
       "      <td>141</td>\n",
       "      <td>1</td>\n",
       "      <td>26</td>\n",
       "    </tr>\n",
       "    <tr>\n",
       "      <th>23288</th>\n",
       "      <td>Frog slippers</td>\n",
       "      <td>100000</td>\n",
       "      <td>84000</td>\n",
       "      <td>1</td>\n",
       "      <td>16000</td>\n",
       "    </tr>\n",
       "    <tr>\n",
       "      <th>1155</th>\n",
       "      <td>Bronze full helm</td>\n",
       "      <td>37</td>\n",
       "      <td>40</td>\n",
       "      <td>1</td>\n",
       "      <td>3</td>\n",
       "    </tr>\n",
       "    <tr>\n",
       "      <th>2942</th>\n",
       "      <td>Purple gloves</td>\n",
       "      <td>999</td>\n",
       "      <td>730</td>\n",
       "      <td>1</td>\n",
       "      <td>269</td>\n",
       "    </tr>\n",
       "    <tr>\n",
       "      <th>1949</th>\n",
       "      <td>Chef's hat</td>\n",
       "      <td>800</td>\n",
       "      <td>386</td>\n",
       "      <td>1</td>\n",
       "      <td>414</td>\n",
       "    </tr>\n",
       "    <tr>\n",
       "      <th>426</th>\n",
       "      <td>Priest gown</td>\n",
       "      <td>3</td>\n",
       "      <td>17</td>\n",
       "      <td>1</td>\n",
       "      <td>14</td>\n",
       "    </tr>\n",
       "    <tr>\n",
       "      <th>1075</th>\n",
       "      <td>Bronze platelegs</td>\n",
       "      <td>350</td>\n",
       "      <td>152</td>\n",
       "      <td>1</td>\n",
       "      <td>198</td>\n",
       "    </tr>\n",
       "    <tr>\n",
       "      <th>1097</th>\n",
       "      <td>Studded chaps</td>\n",
       "      <td>302</td>\n",
       "      <td>294</td>\n",
       "      <td>1</td>\n",
       "      <td>8</td>\n",
       "    </tr>\n",
       "    <tr>\n",
       "      <th>1698</th>\n",
       "      <td>Ruby amulet</td>\n",
       "      <td>1139</td>\n",
       "      <td>1138</td>\n",
       "      <td>1</td>\n",
       "      <td>1</td>\n",
       "    </tr>\n",
       "    <tr>\n",
       "      <th>1696</th>\n",
       "      <td>Emerald amulet</td>\n",
       "      <td>728</td>\n",
       "      <td>670</td>\n",
       "      <td>1</td>\n",
       "      <td>58</td>\n",
       "    </tr>\n",
       "    <tr>\n",
       "      <th>1773</th>\n",
       "      <td>Purple dye</td>\n",
       "      <td>419</td>\n",
       "      <td>350</td>\n",
       "      <td>1</td>\n",
       "      <td>69</td>\n",
       "    </tr>\n",
       "    <tr>\n",
       "      <th>1887</th>\n",
       "      <td>Cake tin</td>\n",
       "      <td>250</td>\n",
       "      <td>252</td>\n",
       "      <td>1</td>\n",
       "      <td>2</td>\n",
       "    </tr>\n",
       "    <tr>\n",
       "      <th>1105</th>\n",
       "      <td>Steel chainbody</td>\n",
       "      <td>297</td>\n",
       "      <td>237</td>\n",
       "      <td>1</td>\n",
       "      <td>60</td>\n",
       "    </tr>\n",
       "    <tr>\n",
       "      <th>1637</th>\n",
       "      <td>Sapphire ring</td>\n",
       "      <td>588</td>\n",
       "      <td>583</td>\n",
       "      <td>1</td>\n",
       "      <td>5</td>\n",
       "    </tr>\n",
       "    <tr>\n",
       "      <th>1125</th>\n",
       "      <td>Black platebody</td>\n",
       "      <td>3483</td>\n",
       "      <td>3251</td>\n",
       "      <td>1</td>\n",
       "      <td>232</td>\n",
       "    </tr>\n",
       "    <tr>\n",
       "      <th>1597</th>\n",
       "      <td>Necklace mould</td>\n",
       "      <td>300</td>\n",
       "      <td>138</td>\n",
       "      <td>1</td>\n",
       "      <td>162</td>\n",
       "    </tr>\n",
       "    <tr>\n",
       "      <th>1137</th>\n",
       "      <td>Iron med helm</td>\n",
       "      <td>7</td>\n",
       "      <td>6</td>\n",
       "      <td>1</td>\n",
       "      <td>1</td>\n",
       "    </tr>\n",
       "    <tr>\n",
       "      <th>2657</th>\n",
       "      <td>Zamorak full helm</td>\n",
       "      <td>279500</td>\n",
       "      <td>267500</td>\n",
       "      <td>1</td>\n",
       "      <td>12000</td>\n",
       "    </tr>\n",
       "    <tr>\n",
       "      <th>1442</th>\n",
       "      <td>Fire talisman</td>\n",
       "      <td>2481</td>\n",
       "      <td>2356</td>\n",
       "      <td>1</td>\n",
       "      <td>125</td>\n",
       "    </tr>\n",
       "    <tr>\n",
       "      <th>331</th>\n",
       "      <td>Raw salmon</td>\n",
       "      <td>38</td>\n",
       "      <td>37</td>\n",
       "      <td>1</td>\n",
       "      <td>1</td>\n",
       "    </tr>\n",
       "    <tr>\n",
       "      <th>2283</th>\n",
       "      <td>Pizza base</td>\n",
       "      <td>292</td>\n",
       "      <td>289</td>\n",
       "      <td>1</td>\n",
       "      <td>3</td>\n",
       "    </tr>\n",
       "    <tr>\n",
       "      <th>1007</th>\n",
       "      <td>Red cape</td>\n",
       "      <td>300</td>\n",
       "      <td>85</td>\n",
       "      <td>1</td>\n",
       "      <td>215</td>\n",
       "    </tr>\n",
       "    <tr>\n",
       "      <th>1365</th>\n",
       "      <td>Steel battleaxe</td>\n",
       "      <td>210</td>\n",
       "      <td>192</td>\n",
       "      <td>1</td>\n",
       "      <td>18</td>\n",
       "    </tr>\n",
       "    <tr>\n",
       "      <th>991</th>\n",
       "      <td>Muddy key</td>\n",
       "      <td>3297</td>\n",
       "      <td>2975</td>\n",
       "      <td>1</td>\n",
       "      <td>322</td>\n",
       "    </tr>\n",
       "    <tr>\n",
       "      <th>428</th>\n",
       "      <td>Priest gown</td>\n",
       "      <td>16</td>\n",
       "      <td>15</td>\n",
       "      <td>1</td>\n",
       "      <td>1</td>\n",
       "    </tr>\n",
       "    <tr>\n",
       "      <th>311</th>\n",
       "      <td>Harpoon</td>\n",
       "      <td>249</td>\n",
       "      <td>236</td>\n",
       "      <td>1</td>\n",
       "      <td>13</td>\n",
       "    </tr>\n",
       "    <tr>\n",
       "      <th>1321</th>\n",
       "      <td>Bronze scimitar</td>\n",
       "      <td>140</td>\n",
       "      <td>76</td>\n",
       "      <td>1</td>\n",
       "      <td>64</td>\n",
       "    </tr>\n",
       "    <tr>\n",
       "      <th>2615</th>\n",
       "      <td>Rune platebody (g)</td>\n",
       "      <td>89500</td>\n",
       "      <td>87964</td>\n",
       "      <td>1</td>\n",
       "      <td>1536</td>\n",
       "    </tr>\n",
       "    <tr>\n",
       "      <th>2621</th>\n",
       "      <td>Rune kiteshield (g)</td>\n",
       "      <td>118000</td>\n",
       "      <td>115000</td>\n",
       "      <td>1</td>\n",
       "      <td>3000</td>\n",
       "    </tr>\n",
       "    <tr>\n",
       "      <th>1295</th>\n",
       "      <td>Steel longsword</td>\n",
       "      <td>225</td>\n",
       "      <td>110</td>\n",
       "      <td>1</td>\n",
       "      <td>115</td>\n",
       "    </tr>\n",
       "  </tbody>\n",
       "</table>\n",
       "<p>315 rows × 5 columns</p>\n",
       "</div>"
      ],
      "text/plain": [
       "                      name buy_average sell_average buy_quantity  margin\n",
       "560             Death rune         206          208       550522       2\n",
       "562             Chaos rune          77           78       524588       1\n",
       "554              Fire rune           4            4       505960       0\n",
       "447            Mithril ore         139          143       388606       4\n",
       "7936          Pure essence           2            2       306968       0\n",
       "556               Air rune           4            4       257025       0\n",
       "2353             Steel bar         383          380       232335       3\n",
       "561            Nature rune         207          206       211453       1\n",
       "314                Feather           2            2       199028       0\n",
       "453                   Coal         142          141       196803       1\n",
       "558              Mind rune           4            3       154375       1\n",
       "440               Iron ore          77           77       153335       0\n",
       "555             Water rune           5            4       129582       1\n",
       "564            Cosmic rune         140          137       123366       3\n",
       "563               Law rune         181          180        95593       1\n",
       "444               Gold ore         311          311        52707       0\n",
       "2357              Gold bar          94           92        49621       2\n",
       "227          Vial of water           4            3        48505       1\n",
       "2361        Adamantite bar        2013         2013        47976       0\n",
       "884             Iron arrow           5            5        46800       0\n",
       "886            Steel arrow          33           31        46427       2\n",
       "557             Earth rune           5            4        45465       1\n",
       "890          Adamant arrow          67           65        35140       2\n",
       "1515              Yew logs         206          205        30251       1\n",
       "2359           Mithril bar         645          646        27157       1\n",
       "1436          Rune essence          13           12        21155       1\n",
       "1987                Grapes         104          102        19094       2\n",
       "888          Mithril arrow          23           22        19010       1\n",
       "5525                 Tiara          93           96        18991       3\n",
       "373              Swordfish         230          222        18432       8\n",
       "...                    ...         ...          ...          ...     ...\n",
       "1265        Bronze pickaxe         167          141            1      26\n",
       "23288        Frog slippers      100000        84000            1   16000\n",
       "1155      Bronze full helm          37           40            1       3\n",
       "2942         Purple gloves         999          730            1     269\n",
       "1949            Chef's hat         800          386            1     414\n",
       "426            Priest gown           3           17            1      14\n",
       "1075      Bronze platelegs         350          152            1     198\n",
       "1097         Studded chaps         302          294            1       8\n",
       "1698           Ruby amulet        1139         1138            1       1\n",
       "1696        Emerald amulet         728          670            1      58\n",
       "1773            Purple dye         419          350            1      69\n",
       "1887              Cake tin         250          252            1       2\n",
       "1105       Steel chainbody         297          237            1      60\n",
       "1637         Sapphire ring         588          583            1       5\n",
       "1125       Black platebody        3483         3251            1     232\n",
       "1597        Necklace mould         300          138            1     162\n",
       "1137         Iron med helm           7            6            1       1\n",
       "2657     Zamorak full helm      279500       267500            1   12000\n",
       "1442         Fire talisman        2481         2356            1     125\n",
       "331             Raw salmon          38           37            1       1\n",
       "2283            Pizza base         292          289            1       3\n",
       "1007              Red cape         300           85            1     215\n",
       "1365       Steel battleaxe         210          192            1      18\n",
       "991              Muddy key        3297         2975            1     322\n",
       "428            Priest gown          16           15            1       1\n",
       "311                Harpoon         249          236            1      13\n",
       "1321       Bronze scimitar         140           76            1      64\n",
       "2615    Rune platebody (g)       89500        87964            1    1536\n",
       "2621   Rune kiteshield (g)      118000       115000            1    3000\n",
       "1295       Steel longsword         225          110            1     115\n",
       "\n",
       "[315 rows x 5 columns]"
      ]
     },
     "execution_count": 7,
     "metadata": {},
     "output_type": "execute_result"
    }
   ],
   "source": [
    "df_non_members = df[df[\"members\"]==False] [[\"name\", \"buy_average\", \"sell_average\", \"buy_quantity\", \"margin\"]]\n",
    "df_non_members.sort_values(by=\"buy_quantity\", ascending= False)"
   ]
  },
  {
   "cell_type": "code",
   "execution_count": 69,
   "metadata": {},
   "outputs": [],
   "source": []
  },
  {
   "cell_type": "code",
   "execution_count": null,
   "metadata": {},
   "outputs": [],
   "source": []
  },
  {
   "cell_type": "code",
   "execution_count": null,
   "metadata": {},
   "outputs": [],
   "source": []
  }
 ],
 "metadata": {
  "kernelspec": {
   "display_name": "Python 3",
   "language": "python",
   "name": "python3"
  },
  "language_info": {
   "codemirror_mode": {
    "name": "ipython",
    "version": 3
   },
   "file_extension": ".py",
   "mimetype": "text/x-python",
   "name": "python",
   "nbconvert_exporter": "python",
   "pygments_lexer": "ipython3",
   "version": "3.7.9"
  }
 },
 "nbformat": 4,
 "nbformat_minor": 4
}
